{
  "cells": [
    {
      "cell_type": "code",
      "execution_count": null,
      "metadata": {
        "id": "ee69b71UjOfc"
      },
      "outputs": [],
      "source": [
        "import numpy as np\n",
        "import pandas as pd\n",
        "import matplotlib.pyplot as plt\n",
        "import requests as rq\n",
        "import json\n",
        "import math\n",
        "import seaborn as sns\n",
        "from scipy.interpolate import make_interp_spline"
      ]
    },
    {
      "cell_type": "code",
      "execution_count": null,
      "metadata": {
        "id": "I3JDChpCp3bM"
      },
      "outputs": [],
      "source": [
        "user_id = 557305697713373184"
      ]
    },
    {
      "cell_type": "code",
      "execution_count": null,
      "metadata": {
        "colab": {
          "base_uri": "https://localhost:8080/"
        },
        "id": "grJNKBB0w6gU",
        "outputId": "8a4dc895-a89f-4ae3-e754-080884e90040"
      },
      "outputs": [],
      "source": [
        "response = rq.get('https://api.sleeper.app/v1/user/{}/leagues/nfl/2025'.format(user_id))\n",
        "\n",
        "leagues_from_user = json.loads(response.text)\n",
        "\n",
        "for league in leagues_from_user:\n",
        "  print(league['league_id'], league['name'])"
      ]
    },
    {
      "cell_type": "code",
      "execution_count": null,
      "metadata": {
        "id": "_Ub91ithWJic"
      },
      "outputs": [],
      "source": [
        "league_id = 1238157874098618368"
      ]
    },
    {
      "cell_type": "code",
      "execution_count": null,
      "metadata": {
        "id": "aJ3Hfv7goRus"
      },
      "outputs": [],
      "source": [
        "# team names\n",
        "response = rq.get('https://api.sleeper.app/v1/league/{}/users'.format(league_id))\n",
        "\n",
        "data = json.loads(response.text)\n",
        "\n",
        "df_users = pd.DataFrame(data)\n",
        "\n",
        "df_users = pd.concat([df_users, df_users[\"metadata\"].apply(pd.Series)], axis=1)\n",
        "df_users = df_users.drop(columns=df_users.columns.difference(['user_id','display_name', 'team_name']), axis=1)\n",
        "\n",
        "df_users['team_name'] = df_users['team_name'].fillna(df_users['display_name'])"
      ]
    },
    {
      "cell_type": "markdown",
      "metadata": {
        "id": "jTD0zqdHsMJj"
      },
      "source": [
        "# **Data (from API)**"
      ]
    },
    {
      "cell_type": "code",
      "execution_count": null,
      "metadata": {
        "id": "Ks2qZixlo0Tk"
      },
      "outputs": [],
      "source": [
        "# rosters\n",
        "\n",
        "response = rq.get('https://api.sleeper.app/v1/league/{}/rosters'.format(league_id))\n",
        "\n",
        "data = json.loads(response.text)\n",
        "\n",
        "df_rosters = pd.DataFrame(data)\n",
        "\n",
        "df_rosters = pd.concat([df_rosters, df_rosters[\"settings\"].apply(pd.Series)], axis=1)\n",
        "df_rosters = df_rosters.drop(columns=df_rosters.columns.difference(['wins','roster_id', 'owner_id']), axis=1)"
      ]
    },
    {
      "cell_type": "code",
      "execution_count": null,
      "metadata": {
        "id": "6BGbyTgxsZtK"
      },
      "outputs": [],
      "source": [
        "# Putting them together\n",
        "\n",
        "df_users = df_users.rename(columns={\"user_id\": \"owner_id\"})\n",
        "result = pd.merge(df_rosters, df_users, on=\"owner_id\")"
      ]
    },
    {
      "cell_type": "code",
      "execution_count": null,
      "metadata": {
        "id": "V-ct-hEooJRf"
      },
      "outputs": [],
      "source": [
        "# Weekly scores\n",
        "\n",
        "response = rq.get('https://api.sleeper.app/v1/state/nfl')\n",
        "\n",
        "data = json.loads(response.text)\n",
        "\n",
        "current_week = data['week']\n",
        "\n",
        "for week in range(1, current_week):\n",
        "  response = rq.get('https://api.sleeper.app/v1/league/{}/matchups/{}'.format(league_id, week))\n",
        "  data = json.loads(response.text)\n",
        "  df_week = pd.DataFrame(data)\n",
        "  df_week = df_week.drop(columns=df_week.columns.difference(['roster_id', 'points']), axis=1)\n",
        "  df_week = df_week.rename(columns={\"points\": \"week_{}\".format(week)})\n",
        "  result = pd.merge(result, df_week, on=\"roster_id\")"
      ]
    },
    {
      "cell_type": "code",
      "execution_count": null,
      "metadata": {
        "colab": {
          "base_uri": "https://localhost:8080/",
          "height": 206
        },
        "id": "xMpaRC43x0cW",
        "outputId": "940b3d1d-4dbf-4492-f1e4-a51f793eab9d"
      },
      "outputs": [],
      "source": [
        "result.head()"
      ]
    },
    {
      "cell_type": "code",
      "execution_count": null,
      "metadata": {
        "id": "lH-mySbHwH47"
      },
      "outputs": [],
      "source": [
        "league = result.to_dict(orient='index')\n",
        "\n",
        "for team in league:\n",
        "  league[team]['scores'] = [0 for i in range(current_week-1)]\n",
        "  league[team][\"rank\"] = [0 for i in range(current_week-1)]\n",
        "  league[team][\"prob_by_n_wins\"] = [0 for i in range(current_week)]\n",
        "  for week in range(0, current_week-1):\n",
        "    league[team]['scores'][week] = league[team]['week_{}'.format(week+1)]\n",
        "\n",
        "for team in league:\n",
        "  for week in range(0, current_week-1):\n",
        "    del league[team]['week_{}'.format(week+1)]\n",
        "\n",
        "num_of_weeks = current_week-1"
      ]
    },
    {
      "cell_type": "markdown",
      "metadata": {
        "id": "DamijVjsOWXT"
      },
      "source": [
        "# **Data Process**"
      ]
    },
    {
      "cell_type": "code",
      "execution_count": null,
      "metadata": {
        "id": "d1HUB5fDOhdM"
      },
      "outputs": [],
      "source": [
        "# Set ranking for each week\n",
        "for week in range(0, num_of_weeks):\n",
        "  ordered = dict(sorted(league.items(), key = lambda team: team[1][\"scores\"][week], reverse=True))\n",
        "  for index, team in enumerate(ordered.keys()):\n",
        "    league[team][\"rank\"][week] = index+1"
      ]
    },
    {
      "cell_type": "code",
      "execution_count": null,
      "metadata": {
        "collapsed": true,
        "id": "HjqIKq7ZAfcW"
      },
      "outputs": [],
      "source": [
        "from itertools import combinations\n",
        "\n",
        "sample_list = range(0, num_of_weeks)\n",
        "w_combinations = list()\n",
        "for n in range(len(sample_list) + 1):\n",
        "    w_combinations += list(combinations(sample_list, n))\n",
        "\n",
        "for wins_array in w_combinations:\n",
        "  for team in league:\n",
        "    prob = 1\n",
        "    for week in range(0, num_of_weeks):\n",
        "      prob_partial = 1\n",
        "      if week in wins_array :\n",
        "        prob_partial *= (len(league)-league[team][\"rank\"][week])/(len(league)-1.0)\n",
        "      else:\n",
        "        prob_partial *= (league[team][\"rank\"][week]-1)/(len(league)-1.0)\n",
        "      prob *= prob_partial\n",
        "    league[team][\"prob_by_n_wins\"][len(wins_array)] += prob"
      ]
    },
    {
      "cell_type": "code",
      "execution_count": null,
      "metadata": {
        "id": "kzw7p3FPoJrF"
      },
      "outputs": [],
      "source": [
        "def expected_value(values, weights):\n",
        "    values = np.asarray(values)\n",
        "    weights = np.asarray(weights)\n",
        "    return (values * weights).sum()\n",
        "\n",
        "for team in league:\n",
        "  league[team][\"expected_wins\"] = expected_value(league[team][\"prob_by_n_wins\"], range(0, num_of_weeks+1))\n",
        "  league[team][\"avg\"] = np.mean(np.asarray(league[team][\"scores\"]))\n",
        "  league[team][\"devq\"] = np.std(np.asarray(league[team][\"scores\"]))"
      ]
    },
    {
      "cell_type": "code",
      "execution_count": null,
      "metadata": {
        "colab": {
          "base_uri": "https://localhost:8080/",
          "height": 501
        },
        "id": "On_QwIl4wEqO",
        "outputId": "7234d269-d20d-4e4e-94a7-884a822ff41a"
      },
      "outputs": [],
      "source": [
        "pd.DataFrame(league)"
      ]
    },
    {
      "cell_type": "markdown",
      "metadata": {
        "id": "6bi8DE0uj54A"
      },
      "source": [
        "# **Data Exibition**"
      ]
    },
    {
      "cell_type": "code",
      "execution_count": null,
      "metadata": {
        "colab": {
          "base_uri": "https://localhost:8080/",
          "height": 426
        },
        "id": "-tKs349LTcbO",
        "outputId": "a0d3f60a-f636-4af3-8210-b62a7e8d0bd6"
      },
      "outputs": [],
      "source": [
        "names = [0 for i in range (0, len(league))]\n",
        "averages = [0 for i in range (0, len(league))]\n",
        "deviations = [0 for i in range (0, len(league))]\n",
        "wins = [0 for i in range (0, len(league))]\n",
        "exp_wins = [0 for i in range (0, len(league))]\n",
        "delta = [0 for i in range (0, len(league))]\n",
        "weekly_rank = [0 for i in range (0, len(league))]\n",
        "\n",
        "for index, team in enumerate(league):\n",
        "  names[index] = league[team][\"display_name\"]\n",
        "  averages[index] = round(league[team][\"avg\"], 1)\n",
        "  deviations[index] = round(league[team][\"devq\"], 1)\n",
        "  wins[index] = league[team][\"wins\"]\n",
        "  exp_wins[index] = round(league[team][\"expected_wins\"], 2)\n",
        "  delta[index] = round(league[team][\"wins\"] - league[team][\"expected_wins\"], 2)\n",
        "  weekly_rank[index] = league[team][\"rank\"]\n",
        "\n",
        "data = {'team': names, 'avg': averages, 'std': deviations, 'wins': wins, 'exp_w': exp_wins, 'delta_w': delta, \"weekly_rank\": weekly_rank}\n",
        "\n",
        "df = pd.DataFrame(data)\n",
        "\n",
        "df = df.sort_values(by=['exp_w'], ascending=False)\n",
        "df = df.reset_index(drop=True)\n",
        "\n",
        "df"
      ]
    },
    {
      "cell_type": "code",
      "execution_count": null,
      "metadata": {
        "colab": {
          "base_uri": "https://localhost:8080/",
          "height": 958
        },
        "id": "eHU4AQOh4aXT",
        "outputId": "bcef8fff-e5d6-4df7-c68b-8660ec6d81b0"
      },
      "outputs": [],
      "source": [
        "df_league = pd.DataFrame(league)\n",
        "data = df_league.loc[\"scores\"].to_numpy()\n",
        "names = df_league.loc[\"team_name\"].to_numpy()\n",
        "\n",
        "fig = plt.figure(figsize =(10, 7))\n",
        "\n",
        "# Creating axes instance\n",
        "ax = fig.add_axes([0, 0, 1, 1])\n",
        "\n",
        "# Creating plot\n",
        "bp = ax.boxplot(data)\n",
        "\n",
        "# show plot\n",
        "plt.title(\"Boxplot de Pontuação\")\n",
        "plt.xticks(range(1, len(names)+1), names, rotation=90)\n",
        "plt.show()"
      ]
    },
    {
      "cell_type": "code",
      "execution_count": null,
      "metadata": {
        "colab": {
          "base_uri": "https://localhost:8080/",
          "height": 566
        },
        "id": "rg_MIlOhTp_7",
        "outputId": "2d12210a-68ab-450e-c963-6ce07e074af1"
      },
      "outputs": [],
      "source": [
        "df = df.sort_values(by=['avg'])\n",
        "df = df.reset_index(drop=True)\n",
        "\n",
        "plt.errorbar( df['team'], df['avg'], yerr=df['std'], fmt='o', color='Black', elinewidth=3,capthick=3,errorevery=1, alpha=1, ms=4, capsize = 5)\n",
        "plt.bar(df['team'], df['avg'],tick_label = df['team'])##Bar plot\n",
        "plt.ylim((70, 165))\n",
        "plt.xlabel('TEAM') ## Label on X axis\n",
        "plt.xticks(rotation=90)\n",
        "plt.ylabel('Average Performance') ##Label on Y axis"
      ]
    },
    {
      "cell_type": "code",
      "execution_count": null,
      "metadata": {
        "colab": {
          "base_uri": "https://localhost:8080/",
          "height": 552
        },
        "id": "l7st4IMKUvzq",
        "outputId": "592c5e9b-6085-4c6d-a83a-17ab112711c8"
      },
      "outputs": [],
      "source": [
        "df = df.sort_values(by=['wins', 'exp_w'])\n",
        "df = df.reset_index(drop=True)\n",
        "\n",
        "fig, ax = plt.subplots()\n",
        "\n",
        "ax.bar(df['team'], df['wins'], 0.8, label='Wins', color = 'b')\n",
        "ax.bar(df['team'], df['exp_w'], 0.3, label='Expected Wins', color = 'c')\n",
        "\n",
        "ax.set_ylabel('n° of wins')\n",
        "ax.set_title('Actual Wins & Expected Wins')\n",
        "ax.legend()\n",
        "\n",
        "plt.xticks(rotation=90)\n",
        "\n",
        "plt.show()"
      ]
    },
    {
      "cell_type": "code",
      "execution_count": null,
      "metadata": {
        "colab": {
          "base_uri": "https://localhost:8080/",
          "height": 1000
        },
        "id": "1yNjCwulIOpc",
        "outputId": "7542b742-06f1-4dc1-d42d-e22a2957e643"
      },
      "outputs": [],
      "source": [
        "df_league.transpose()"
      ]
    },
    {
      "cell_type": "code",
      "execution_count": null,
      "metadata": {
        "colab": {
          "base_uri": "https://localhost:8080/",
          "height": 704
        },
        "id": "WNN5t3DZ35zn",
        "outputId": "8b0ee4db-5a56-4f8e-d56f-7e09ec8c8e28"
      },
      "outputs": [],
      "source": [
        "# Define the team names in an array\n",
        "team_names = [\"Breda SuperBowlers\", \"Chattanooga CottonPickers\", \"Utah Pombos\", \"Stalingrad Farmers\"]\n",
        "\n",
        "# Transpose the DataFrame and create original x values based on the length of the data array for the first team\n",
        "df = df_league.transpose()\n",
        "x_original = np.arange(len(df[df[\"team_name\"] == team_names[0]][\"prob_by_n_wins\"].values[0]))\n",
        "\n",
        "# Create a smooth x range for interpolation\n",
        "x_smooth = np.linspace(x_original.min(), x_original.max(), 200)  # 200 points for smoothness\n",
        "\n",
        "# Plot setup\n",
        "plt.figure(figsize=(10, 6))  # Optional: Adjust figure size\n",
        "\n",
        "# Iterate over each team, interpolate, plot, and add a circle marker at the \"wins\" point\n",
        "for team in team_names:\n",
        "    # Get the probability data and number of wins for the team\n",
        "    data = df[df[\"team_name\"] == team][\"prob_by_n_wins\"].values[0]\n",
        "    wins = df[df[\"team_name\"] == team][\"wins\"].values[0]\n",
        "    print(team)\n",
        "    print(data)\n",
        "\n",
        "    # Create a cubic spline interpolation for the team data\n",
        "    spline = make_interp_spline(x_original, data, k=2)\n",
        "    y_smooth = spline(x_smooth)\n",
        "\n",
        "    # Plot the smoothed curve for the team\n",
        "    line, = plt.plot(x_smooth, y_smooth, label=team)  # Store the line to get its color\n",
        "\n",
        "    # Calculate y value for the \"wins\" x position using the spline\n",
        "    y_wins = spline(wins)\n",
        "\n",
        "    # Add a circle marker at the \"wins\" position on the curve\n",
        "    plt.plot(wins, y_wins, 'o', color=line.get_color(), markersize=8)\n",
        "\n",
        "# Final plot adjustments\n",
        "plt.title(\"Probabilidade para N vitórias\")\n",
        "plt.xlabel(\"Número de Vitórias\")\n",
        "plt.ylabel(\"Probabilidade\")\n",
        "plt.legend()\n",
        "plt.show()"
      ]
    },
    {
      "cell_type": "code",
      "execution_count": null,
      "metadata": {
        "colab": {
          "base_uri": "https://localhost:8080/",
          "height": 565
        },
        "id": "HzrqEFt5PXuk",
        "outputId": "f05b103e-8ea5-45c9-fd8c-d26dbb2f9fec"
      },
      "outputs": [],
      "source": [
        "# Define the team names in Gamblers\n",
        "team_names = [\"Trentino Quasars\", \"Athens Spartans\", \"Varzelandia Gamblers\", \"Chestnut Flyers\"]\n",
        "\n",
        "# Transpose the DataFrame and create original x values based on the length of the data array for the first team\n",
        "df = df_league.transpose()\n",
        "x_original = np.arange(len(df[df[\"team_name\"] == team_names[0]][\"prob_by_n_wins\"].values[0]))\n",
        "\n",
        "# Create a smooth x range for interpolation\n",
        "x_smooth = np.linspace(x_original.min(), x_original.max(), 200)  # 200 points for smoothness\n",
        "\n",
        "# Plot setup\n",
        "plt.figure(figsize=(10, 6))  # Optional: Adjust figure size\n",
        "# Iterate over each team, interpolate, plot, and add a circle marker at the \"wins\" point\n",
        "for team in team_names:\n",
        "    # Get the probability data and number of wins for the team\n",
        "    data = df[df[\"team_name\"] == team][\"prob_by_n_wins\"].values[0]\n",
        "    wins = df[df[\"team_name\"] == team][\"wins\"].values[0]\n",
        "\n",
        "    # Create a cubic spline interpolation for the team data\n",
        "    spline = make_interp_spline(x_original, data, k=2)\n",
        "    y_smooth = spline(x_smooth)\n",
        "\n",
        "    # Plot the smoothed curve for the team\n",
        "    line, = plt.plot(x_smooth, y_smooth, label=team)  # Store the line to get its color\n",
        "\n",
        "    # Calculate y value for the \"wins\" x position using the spline\n",
        "    y_wins = spline(wins)\n",
        "\n",
        "    # Add a circle marker at the \"wins\" position on the curve\n",
        "    plt.plot(wins, y_wins, 'o', color=line.get_color(), markersize=8)\n",
        "\n",
        "# Final plot adjustments\n",
        "plt.title(\"Probabilidade para N vitórias\")\n",
        "plt.xlabel(\"Número de Vitórias\")\n",
        "plt.ylabel(\"Probabilidade\")\n",
        "plt.legend()\n",
        "plt.show()"
      ]
    },
    {
      "cell_type": "code",
      "execution_count": null,
      "metadata": {
        "colab": {
          "base_uri": "https://localhost:8080/",
          "height": 565
        },
        "id": "2uT0QWk4CUAb",
        "outputId": "645afe94-11f6-46aa-f2aa-658beb960ec2"
      },
      "outputs": [],
      "source": [
        "# Define the team names in an array\n",
        "team_names = [\"Vespasiano JetEagles\", \"Sabinópolis Roludos\", \"Dusseldorf Vetter's\", \"Indianapolis Foxes\"]\n",
        "\n",
        "# Transpose the DataFrame and create original x values based on the length of the data array for the first team\n",
        "df = df_league.transpose()\n",
        "x_original = np.arange(len(df[df[\"team_name\"] == team_names[0]][\"prob_by_n_wins\"].values[0]))\n",
        "\n",
        "# Create a smooth x range for interpolation\n",
        "x_smooth = np.linspace(x_original.min(), x_original.max(), 200)  # 200 points for smoothness\n",
        "\n",
        "# Plot setup\n",
        "plt.figure(figsize=(10, 6))  # Optional: Adjust figure size\n",
        "\n",
        "# Iterate over each team, interpolate, plot, and add a circle marker at the \"wins\" point\n",
        "for team in team_names:\n",
        "    # Get the probability data and number of wins for the team\n",
        "    data = df[df[\"team_name\"] == team][\"prob_by_n_wins\"].values[0]\n",
        "    wins = df[df[\"team_name\"] == team][\"wins\"].values[0]\n",
        "\n",
        "    # Create a cubic spline interpolation for the team data\n",
        "    spline = make_interp_spline(x_original, data, k=2)\n",
        "    y_smooth = spline(x_smooth)\n",
        "\n",
        "    # Plot the smoothed curve for the team\n",
        "    line, = plt.plot(x_smooth, y_smooth, label=team)  # Store the line to get its color\n",
        "\n",
        "    # Calculate y value for the \"wins\" x position using the spline\n",
        "    y_wins = spline(wins)\n",
        "\n",
        "    # Add a circle marker at the \"wins\" position on the curve\n",
        "    plt.plot(wins, y_wins, 'o', color=line.get_color(), markersize=8)\n",
        "\n",
        "# Final plot adjustments\n",
        "plt.title(\"Probabilidade para N vitórias\")\n",
        "plt.xlabel(\"Número de Vitórias\")\n",
        "plt.ylabel(\"Probabilidade\")\n",
        "plt.legend()\n",
        "plt.show()"
      ]
    },
    {
      "cell_type": "code",
      "execution_count": null,
      "metadata": {
        "colab": {
          "base_uri": "https://localhost:8080/",
          "height": 452
        },
        "id": "H558KSwZXYRr",
        "outputId": "1c8dfa4b-fd92-4554-edaa-243bae4bc71a"
      },
      "outputs": [],
      "source": [
        "qb_data = {'QB': [\"Indiana Jones\", \"JJ McCarthy\"], 'PassingYards': [1078, 301]}\n",
        "df_qb = pd.DataFrame(data=qb_data)\n",
        "\n",
        "fig, ax = plt.subplots()\n",
        "\n",
        "ax.bar(df_qb['QB'], df_qb['PassingYards'], 0.8, label='Passing Yards', color = 'b')\n",
        "\n",
        "ax.set_ylabel(\"Quarterback\")\n",
        "ax.set_title('Aposta Lucca vs Cesinha')\n",
        "ax.legend()\n",
        "\n",
        "\n",
        "plt.show()"
      ]
    }
  ],
  "metadata": {
    "colab": {
      "provenance": []
    },
    "kernelspec": {
      "display_name": "env",
      "language": "python",
      "name": "python3"
    },
    "language_info": {
      "codemirror_mode": {
        "name": "ipython",
        "version": 3
      },
      "file_extension": ".py",
      "mimetype": "text/x-python",
      "name": "python",
      "nbconvert_exporter": "python",
      "pygments_lexer": "ipython3",
      "version": "3.12.3"
    }
  },
  "nbformat": 4,
  "nbformat_minor": 0
}
